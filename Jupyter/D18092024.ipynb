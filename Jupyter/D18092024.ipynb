{
 "cells": [
  {
   "cell_type": "code",
   "execution_count": 1,
   "metadata": {},
   "outputs": [],
   "source": [
    "class Node:\n",
    "    def __init__(self,value=None,children=None):\n",
    "        self.value=value\n",
    "        self.children = children or []"
   ]
  },
  {
   "cell_type": "code",
   "execution_count": 9,
   "metadata": {},
   "outputs": [],
   "source": [
    "def minimax(node, depth, isMaximizingPlayer):\n",
    "    if not node.children or depth == 0:\n",
    "        return node.value\n",
    "    \n",
    "    if isMaximizingPlayer:\n",
    "        bestValue=float('-inf')\n",
    "        for child in node.children:\n",
    "            val=minimax(child,depth-1,False)\n",
    "            bestValue=max(bestValue,val)\n",
    "        return bestValue\n",
    "    else:\n",
    "        bestValue=float('inf')\n",
    "        for child in node.children:\n",
    "            val=minimax(child,depth-1,True)\n",
    "            bestValue=min(bestValue,val)\n",
    "        return bestValue"
   ]
  },
  {
   "cell_type": "code",
   "execution_count": 10,
   "metadata": {},
   "outputs": [
    {
     "name": "stdout",
     "output_type": "stream",
     "text": [
      "The optimal value for the maximzing player is :  3\n"
     ]
    }
   ],
   "source": [
    "tree=Node(children=[\n",
    "    Node(children=[Node(value=3),Node(value=5),Node(value=9)]),\n",
    "    Node(children=[Node(value=2),Node(value=12),Node(value=8)]),\n",
    "    Node(children=[Node(value=14),Node(value=5),Node(value=2)])\n",
    "])\n",
    "\n",
    "result=minimax(tree,depth=3,isMaximizingPlayer=True)\n",
    "print(f\"The optimal value for the maximzing player is : \",result)"
   ]
  },
  {
   "cell_type": "code",
   "execution_count": null,
   "metadata": {},
   "outputs": [],
   "source": []
  }
 ],
 "metadata": {
  "kernelspec": {
   "display_name": "Python 3",
   "language": "python",
   "name": "python3"
  },
  "language_info": {
   "codemirror_mode": {
    "name": "ipython",
    "version": 3
   },
   "file_extension": ".py",
   "mimetype": "text/x-python",
   "name": "python",
   "nbconvert_exporter": "python",
   "pygments_lexer": "ipython3",
   "version": "3.12.4"
  }
 },
 "nbformat": 4,
 "nbformat_minor": 2
}
