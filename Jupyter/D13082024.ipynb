{
 "cells": [
  {
   "cell_type": "markdown",
   "metadata": {},
   "source": [
    "Linear Search"
   ]
  },
  {
   "cell_type": "code",
   "execution_count": 3,
   "metadata": {},
   "outputs": [
    {
     "name": "stdout",
     "output_type": "stream",
     "text": [
      "[886, 836, 972, 1431, 3153, 1763, 2547, 3242, 3989, 8648, 379, 2660, 1004, 3335, 6561, 1698, 9767, 2614, 3529, 4442, 9027, 2695, 9550, 147, 458, 4032, 7350, 9853, 4890, 2337, 5869, 9315, 5357, 5334, 7845, 5034, 2732, 3619, 9445, 5658, 5341, 4814, 7228, 8917, 8828, 4053, 9509, 6537, 2429, 5160, 2027, 2476, 3014, 3585, 4076, 4229, 6990, 8007, 2191, 1809, 3562, 2323, 1548, 4799, 909, 3005, 3162, 3809, 233, 132, 4389, 707, 6090, 8746, 4191, 1725, 542, 2616, 5454, 2205, 7041, 3092, 1010, 9446, 7059, 6473, 6626, 3975, 9619, 5085, 7674, 6521, 571, 9943, 7793, 9392, 5805, 2819, 6289, 2565]\n"
     ]
    }
   ],
   "source": [
    "import random as R\n",
    "\n",
    "L=[R.randint(0,9999) for x in range(0,100)]\n",
    "print(L)"
   ]
  },
  {
   "cell_type": "code",
   "execution_count": 4,
   "metadata": {},
   "outputs": [],
   "source": [
    "S=int(input(\"Search a Positive Value : \"))"
   ]
  },
  {
   "cell_type": "code",
   "execution_count": 25,
   "metadata": {},
   "outputs": [],
   "source": [
    "def LinearSearch(L,S):\n",
    "    print(S)\n",
    "    for i in range(len(L)):\n",
    "        if S == L[i]:\n",
    "            return True\n",
    "    else:\n",
    "        return False"
   ]
  },
  {
   "cell_type": "code",
   "execution_count": 26,
   "metadata": {},
   "outputs": [
    {
     "name": "stdout",
     "output_type": "stream",
     "text": [
      "555\n"
     ]
    },
    {
     "data": {
      "text/plain": [
       "True"
      ]
     },
     "execution_count": 26,
     "metadata": {},
     "output_type": "execute_result"
    }
   ],
   "source": [
    "LinearSearch(L,S)"
   ]
  },
  {
   "cell_type": "code",
   "execution_count": 1,
   "metadata": {},
   "outputs": [],
   "source": [
    "def BinarySearch(L,S):\n",
    "    L.sort()\n",
    "    l,m,r=0,int((len(L)-1)/2),len(L)-1\n",
    "    while(l<=r):\n",
    "        m=l+(r-l)//2\n",
    "        if(L[m]==S):\n",
    "            return m\n",
    "        elif(L[m]<S):\n",
    "            l=m+1\n",
    "        elif(L[m]>S):\n",
    "            r=m-1\n",
    "    return -1\n"
   ]
  },
  {
   "cell_type": "code",
   "execution_count": 5,
   "metadata": {},
   "outputs": [
    {
     "data": {
      "text/plain": [
       "9"
      ]
     },
     "execution_count": 5,
     "metadata": {},
     "output_type": "execute_result"
    }
   ],
   "source": [
    "BinarySearch(L,S)"
   ]
  }
 ],
 "metadata": {
  "kernelspec": {
   "display_name": "Python 3",
   "language": "python",
   "name": "python3"
  },
  "language_info": {
   "codemirror_mode": {
    "name": "ipython",
    "version": 3
   },
   "file_extension": ".py",
   "mimetype": "text/x-python",
   "name": "python",
   "nbconvert_exporter": "python",
   "pygments_lexer": "ipython3",
   "version": "3.12.4"
  }
 },
 "nbformat": 4,
 "nbformat_minor": 2
}
