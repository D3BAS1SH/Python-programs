{
 "cells": [
  {
   "cell_type": "code",
   "execution_count": 1,
   "metadata": {},
   "outputs": [],
   "source": [
    "def greedy_best_first_search(graph, start, goal, heuristic):\n",
    "    openList=[start]\n",
    "    came_from={start:None}\n",
    "\n",
    "    while openList:\n",
    "        current = min(openList,key=lambda node:heuristic[node])\n",
    "\n",
    "        if current == goal:\n",
    "            path=[]\n",
    "            while current:\n",
    "                path.append(current)\n",
    "                current=came_from[current]\n",
    "            return path[::-1]\n",
    "\n",
    "        openList.remove(current)\n",
    "\n",
    "        for neighbor in graph.get(current,[]):\n",
    "            if neighbor not in came_from:\n",
    "                came_from[neighbor] = current\n",
    "                openList.append(neighbor)\n",
    "    return None\n"
   ]
  },
  {
   "cell_type": "code",
   "execution_count": 2,
   "metadata": {},
   "outputs": [
    {
     "name": "stdout",
     "output_type": "stream",
     "text": [
      "['A', 'C', 'D', 'E']\n"
     ]
    }
   ],
   "source": [
    "if __name__ == \"__main__\":\n",
    "    graph={\n",
    "        'A':['B','C'],\n",
    "        'B':['A','D'],\n",
    "        'C':['A','D'],\n",
    "        'D':['B','C','E'],\n",
    "        'E':['D']\n",
    "    }\n",
    "\n",
    "    heuristic={\n",
    "        'A':7,\n",
    "        'B':6,\n",
    "        'C':2,\n",
    "        'D':1,\n",
    "        'E':0\n",
    "    }\n",
    "\n",
    "    startNode='A'\n",
    "    goalNode='E'\n",
    "\n",
    "    path=greedy_best_first_search(graph=graph,start=startNode,goal=goalNode,heuristic=heuristic)\n",
    "\n",
    "    print(path)"
   ]
  },
  {
   "cell_type": "code",
   "execution_count": null,
   "metadata": {},
   "outputs": [],
   "source": []
  }
 ],
 "metadata": {
  "kernelspec": {
   "display_name": "Python 3",
   "language": "python",
   "name": "python3"
  },
  "language_info": {
   "codemirror_mode": {
    "name": "ipython",
    "version": 3
   },
   "file_extension": ".py",
   "mimetype": "text/x-python",
   "name": "python",
   "nbconvert_exporter": "python",
   "pygments_lexer": "ipython3",
   "version": "3.12.4"
  }
 },
 "nbformat": 4,
 "nbformat_minor": 2
}
