{
 "cells": [
  {
   "cell_type": "code",
   "execution_count": null,
   "metadata": {},
   "outputs": [],
   "source": [
    "#A* path finding"
   ]
  },
  {
   "cell_type": "code",
   "execution_count": 1,
   "metadata": {},
   "outputs": [],
   "source": [
    "def aStar(graph,start,goal,heurstic):\n",
    "    OpenList=[start]\n",
    "    GScore={start:0}\n",
    "    CameFrom = {start:None}\n",
    "\n",
    "    while OpenList:\n",
    "        Current=min(OpenList,key=lambda node: GScore.get(node,float('inf')))\n",
    "\n",
    "        if Current == goal:\n",
    "            path=[]\n",
    "            while Current:\n",
    "                path.append(Current)\n",
    "                Current=CameFrom[Current]\n",
    "            return path[::-1]\n",
    "        OpenList.remove(Current)\n",
    "\n",
    "        for neighbor, cost in graph.get(Current,[]):\n",
    "            tentativeGScore= GScore[Current]+cost\n",
    "\n",
    "            if neighbor not in GScore or tentativeGScore < GScore[neighbor]:\n",
    "                GScore[neighbor] = tentativeGScore\n",
    "                CameFrom[neighbor]=Current\n",
    "\n",
    "                if neighbor not in OpenList:\n",
    "                    OpenList.append(neighbor)\n",
    "        return None"
   ]
  },
  {
   "cell_type": "code",
   "execution_count": 3,
   "metadata": {},
   "outputs": [
    {
     "name": "stdout",
     "output_type": "stream",
     "text": [
      "['A', 'B', 'D', 'E']\n"
     ]
    }
   ],
   "source": [
    "if __name__==\"__main__\":\n",
    "    graph={\n",
    "        'A':[('B',1),('C',3)],\n",
    "        'B':[('A',1),('D',3)],\n",
    "        'C':[('A',3),('D',3)],\n",
    "        'D':[('B',1),('C',1),('E',1)],\n",
    "        'E':[('D',1)]\n",
    "    }\n",
    "\n",
    "    heuristic={\n",
    "        'A':7,\n",
    "        'B':6,\n",
    "        'C':2,\n",
    "        'D':1,\n",
    "        'E':0\n",
    "    }\n",
    "\n",
    "    StartNode='A'\n",
    "    GoalNode='E'\n",
    "    path=aStar(graph=graph,start=StartNode,goal=GoalNode,heurstic=heuristic)\n",
    "\n",
    "    if path:\n",
    "        print(path)\n",
    "    else:\n",
    "        print(\"Error\")"
   ]
  },
  {
   "cell_type": "code",
   "execution_count": null,
   "metadata": {},
   "outputs": [],
   "source": []
  }
 ],
 "metadata": {
  "kernelspec": {
   "display_name": "Python 3",
   "language": "python",
   "name": "python3"
  },
  "language_info": {
   "codemirror_mode": {
    "name": "ipython",
    "version": 3
   },
   "file_extension": ".py",
   "mimetype": "text/x-python",
   "name": "python",
   "nbconvert_exporter": "python",
   "pygments_lexer": "ipython3",
   "version": "3.12.4"
  }
 },
 "nbformat": 4,
 "nbformat_minor": 2
}
