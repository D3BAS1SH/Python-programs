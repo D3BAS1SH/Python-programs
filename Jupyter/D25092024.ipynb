{
 "cells": [
  {
   "cell_type": "code",
   "execution_count": 1,
   "metadata": {},
   "outputs": [],
   "source": [
    "from collections import deque"
   ]
  },
  {
   "cell_type": "code",
   "execution_count": 2,
   "metadata": {},
   "outputs": [],
   "source": [
    "def get_solution_path(parent_map,state):\n",
    "    path=[]\n",
    "    while state is not None:\n",
    "        path.append(state)\n",
    "        state=parent_map[state]\n",
    "    return path[::-1]"
   ]
  },
  {
   "cell_type": "code",
   "execution_count": 3,
   "metadata": {},
   "outputs": [],
   "source": [
    "def printSolution(path):\n",
    "    for step in path:\n",
    "        print(f\"jug1 : {step[0]}L,jug2 : {step[1]}L\")\n",
    "    pass"
   ]
  },
  {
   "cell_type": "code",
   "execution_count": 4,
   "metadata": {},
   "outputs": [],
   "source": [
    "def water_jug_solver(jug1_capacity,jug2_capacity,target):\n",
    "    queue = deque()\n",
    "    visited=set()\n",
    "    parentMap={}\n",
    "\n",
    "    queue.append((0,0))\n",
    "    visited.add((0,0))\n",
    "    parentMap[(0,0)]=None\n",
    "\n",
    "    while queue:\n",
    "        jug1,jug2=queue.popleft()\n",
    "\n",
    "        if jug1==target or jug2==target or jug1+jug2==target:\n",
    "            return get_solution_path(parentMap,(jug1,jug2))\n",
    "        \n",
    "        next_states=[\n",
    "            (jug1_capacity,jug2),\n",
    "            (jug1,jug2_capacity),\n",
    "            (0,jug2),\n",
    "            (jug1,0),\n",
    "            (jug1-min(jug1,jug2_capacity-jug2),jug2+min(jug1,jug2_capacity-jug2)),\n",
    "            (jug1+min(jug2,jug1_capacity-jug1),jug2-min(jug2,jug1_capacity-jug1)),\n",
    "        ]\n",
    "\n",
    "        for state in next_states:\n",
    "            if state not in visited:\n",
    "                visited.add(state)\n",
    "                queue.append(state)\n",
    "                parentMap[state]=(jug1,jug2)\n",
    "        \n",
    "    return None"
   ]
  },
  {
   "cell_type": "code",
   "execution_count": 5,
   "metadata": {},
   "outputs": [
    {
     "name": "stdout",
     "output_type": "stream",
     "text": [
      "jug1 : 0L,jug2 : 0L\n",
      "jug1 : 0L,jug2 : 3L\n",
      "jug1 : 3L,jug2 : 0L\n",
      "jug1 : 3L,jug2 : 3L\n",
      "jug1 : 4L,jug2 : 2L\n"
     ]
    }
   ],
   "source": [
    "jug1_capacity = 4\n",
    "jug2_capacity = 3\n",
    "target_amount = 2\n",
    "\n",
    "solutionPath=water_jug_solver(jug1_capacity,jug2_capacity,target_amount)\n",
    "\n",
    "if solutionPath:\n",
    "    printSolution(solutionPath)\n",
    "else:\n",
    "    print(f\"No, its's not possible to measure {target_amount} litres of water.\")"
   ]
  },
  {
   "cell_type": "markdown",
   "metadata": {},
   "source": []
  }
 ],
 "metadata": {
  "kernelspec": {
   "display_name": "Python 3",
   "language": "python",
   "name": "python3"
  },
  "language_info": {
   "codemirror_mode": {
    "name": "ipython",
    "version": 3
   },
   "file_extension": ".py",
   "mimetype": "text/x-python",
   "name": "python",
   "nbconvert_exporter": "python",
   "pygments_lexer": "ipython3",
   "version": "3.12.4"
  }
 },
 "nbformat": 4,
 "nbformat_minor": 2
}
